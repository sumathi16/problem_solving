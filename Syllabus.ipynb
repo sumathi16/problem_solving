{
 "cells": [
  {
   "cell_type": "markdown",
   "id": "209ec057",
   "metadata": {},
   "source": [
    "### Introduction\n",
    "* What is an algorithm,flowchart and program?\n",
    "* Understanding programming Terminology\n",
    "    - variable?\n",
    "    - datatype?\n",
    "    - memory?\n",
    "    - code block?\n",
    "    - program?\n",
    "    - function?\n",
    "* Version Control System\n",
    "    - how?\n",
    "    - why?\n",
    "* What are cloud services?"
   ]
  },
  {
   "cell_type": "markdown",
   "id": "9b51d4fe",
   "metadata": {},
   "source": [
    "### How to solve a problem\n",
    "1. What is the problem Statement?\n",
    "2. What is input?\n",
    "3. What is output?\n",
    "4. How to get output from input?"
   ]
  },
  {
   "cell_type": "markdown",
   "id": "404addf3",
   "metadata": {},
   "source": [
    "### Greetings - input/output\n",
    "- Good Morning\n",
    "- Good Morning John\n",
    "- Good Morning John Doe\n",
    "- [your choice wish] [full_name]"
   ]
  },
  {
   "cell_type": "markdown",
   "id": "a1b9080b",
   "metadata": {},
   "source": [
    "### DataTypes\n",
    "* Student Name?\n",
    "* How many marks?\n",
    "* Pass or Fail?\n",
    "* What is the percenatage?\n"
   ]
  },
  {
   "cell_type": "markdown",
   "id": "628fa453",
   "metadata": {},
   "source": [
    "### Basic Calculator - mathematical operators\n",
    "* Addition - add two subject marks\n",
    "* Subtraction - Find out the remaining marks from total\n",
    "* Multiplication - Double the Mathematics marks\n",
    "* Division - Calculate the percenatge"
   ]
  },
  {
   "cell_type": "markdown",
   "id": "48d4979e",
   "metadata": {},
   "source": [
    "### Comparative Operatos\n",
    "* Ram and Rahim got equal marks in maths or not?\n",
    "* Who got more in english?\n",
    "* Did Ram failed in Science?\n",
    "* Rahim passed in distinction or not?"
   ]
  },
  {
   "cell_type": "markdown",
   "id": "4d6c08ba",
   "metadata": {},
   "source": [
    "### Logical Operators\n",
    "* Did Rahim passed in both science and maths?\n",
    "* Did Ram passed in either sceince or english?"
   ]
  },
  {
   "cell_type": "markdown",
   "id": "079b9adc",
   "metadata": {},
   "source": [
    "### Your brain vs Python Interpreter \n",
    "- 3/2\n",
    "- 3//2\n",
    "- 2 +3.0\n",
    "- 2 + 3\n",
    "- \"raj\" >\"apple\"\n",
    "- \"abc\" * 3"
   ]
  },
  {
   "cell_type": "markdown",
   "id": "ec2ca3a4",
   "metadata": {},
   "source": [
    "### Input with data type conversion"
   ]
  },
  {
   "cell_type": "markdown",
   "id": "6326b940",
   "metadata": {},
   "source": [
    "Required softwares:\n",
    "- [Raptor](https://raptor.martincarlisle.com/)\n",
    "- [Python IDLE](https://www.python.org/downloads/)\n",
    "- [Anaconda](https://www.anaconda.com/download/)\n",
    "- [Github](https://desktop.github.com/)\n",
    "\n",
    "\n",
    "Editors:\n",
    "1. [VSCode](https://code.visualstudio.com/)\n",
    "2. [Pycharm](https://www.jetbrains.com/pycharm/download/)\n",
    "3. [Notepad++](https://notepad-plus-plus.org/downloads/)\n",
    "\n",
    "Documentaion:\n",
    "* [Raptor](https://raptor.martincarlisle.com/docs/IntroducingRaptor/Introducing_Raptor.shtml)\n",
    "* [Python](https://docs.python.org/3/tutorial/index.html)\n",
    "* [Linux basic commands](https://ubuntu.com/tutorials/command-line-for-beginners#1-overview)\n",
    "* [Linux](http://linuxcommand.org/index.php)\n",
    "* [Github](https://docs.github.com/en/get-started/quickstart/git-and-github-learning-resources)"
   ]
  }
 ],
 "metadata": {
  "kernelspec": {
   "display_name": "Python 3 (ipykernel)",
   "language": "python",
   "name": "python3"
  },
  "language_info": {
   "codemirror_mode": {
    "name": "ipython",
    "version": 3
   },
   "file_extension": ".py",
   "mimetype": "text/x-python",
   "name": "python",
   "nbconvert_exporter": "python",
   "pygments_lexer": "ipython3",
   "version": "3.10.9"
  }
 },
 "nbformat": 4,
 "nbformat_minor": 5
}
